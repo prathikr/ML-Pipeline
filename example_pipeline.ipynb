{
 "cells": [
  {
   "cell_type": "code",
   "execution_count": 75,
   "metadata": {
    "scrolled": true
   },
   "outputs": [],
   "source": [
    "# %load_ext autoreload\n",
    "%reload_ext autoreload\n",
    "%autoreload 2"
   ]
  },
  {
   "cell_type": "code",
   "execution_count": 76,
   "metadata": {
    "scrolled": true
   },
   "outputs": [],
   "source": [
    "from utils.pipeline import Pipeline\n",
    "\n",
    "p = Pipeline(\"example_config.json\")"
   ]
  },
  {
   "cell_type": "code",
   "execution_count": 77,
   "metadata": {
    "scrolled": true
   },
   "outputs": [
    {
     "name": "stdout",
     "output_type": "stream",
     "text": [
      "Original data shape: (891, 8) \n",
      "\n",
      "--- print_statistics ---\n",
      "Outcome distribution:\n",
      "0    549\n",
      "1    342\n",
      "Name: Survived, dtype: int64\n",
      "NaN counts:\n",
      "Pclass        0\n",
      "Sex           0\n",
      "Age         177\n",
      "SibSp         0\n",
      "Parch         0\n",
      "Fare          0\n",
      "Embarked      2\n",
      "Survived      0\n",
      "dtype: int64\n",
      "--- impute ---\n",
      "# NaNs pre-imputation: 179\n",
      "# NaNs post-imputation: 0\n",
      "--- one_hot_encode ---\n",
      "Features to encode: ['Pclass', 'Sex', 'Embarked']\n",
      "Data shape after one_hot_encode: (891, 13)\n",
      "\n",
      "Final data shape: (891, 13)\n"
     ]
    }
   ],
   "source": [
    "p.preprocess()"
   ]
  },
  {
   "cell_type": "code",
   "execution_count": 78,
   "metadata": {
    "scrolled": true
   },
   "outputs": [
    {
     "name": "stdout",
     "output_type": "stream",
     "text": [
      "roc_auc performance across 5 folds with 95% confidence: 0.7943 +/- 0.0124\n"
     ]
    }
   ],
   "source": [
    "p.model()"
   ]
  },
  {
   "cell_type": "code",
   "execution_count": 79,
   "metadata": {
    "scrolled": true
   },
   "outputs": [
    {
     "name": "stdout",
     "output_type": "stream",
     "text": [
      "--- feature_importance_permutation_importance ---\n",
      "          feat  feat_imp_mean  feat_imp_95_ci\n",
      "8     Sex_male       0.052123        0.022675\n",
      "7   Sex_female       0.048004        0.047394\n",
      "3         Fare       0.038869        0.022750\n",
      "0          Age       0.034912        0.027525\n",
      "6     Pclass_3       0.028116        0.014288\n",
      "2        Parch       0.005391        0.013370\n",
      "1        SibSp       0.001843        0.015583\n",
      "11  Embarked_S      -0.000058        0.018239\n",
      "10  Embarked_Q      -0.000110        0.004575\n",
      "5     Pclass_2      -0.003034        0.008861\n",
      "4     Pclass_1      -0.003992        0.013952\n",
      "9   Embarked_C      -0.005328        0.012021\n"
     ]
    }
   ],
   "source": [
    "p.postprocess()"
   ]
  },
  {
   "cell_type": "code",
   "execution_count": null,
   "metadata": {},
   "outputs": [],
   "source": []
  }
 ],
 "metadata": {
  "kernelspec": {
   "display_name": "Python 3",
   "language": "python",
   "name": "python3"
  },
  "language_info": {
   "codemirror_mode": {
    "name": "ipython",
    "version": 3
   },
   "file_extension": ".py",
   "mimetype": "text/x-python",
   "name": "python",
   "nbconvert_exporter": "python",
   "pygments_lexer": "ipython3",
   "version": "3.9.5"
  }
 },
 "nbformat": 4,
 "nbformat_minor": 4
}
