{
 "cells": [
  {
   "cell_type": "code",
   "execution_count": 11,
   "metadata": {
    "scrolled": true
   },
   "outputs": [],
   "source": [
    "# %load_ext autoreload\n",
    "%reload_ext autoreload\n",
    "%autoreload 2"
   ]
  },
  {
   "cell_type": "code",
   "execution_count": 12,
   "metadata": {
    "scrolled": true
   },
   "outputs": [],
   "source": [
    "from utils.pipeline import Pipeline\n",
    "\n",
    "p = Pipeline(\"example_config.json\")"
   ]
  },
  {
   "cell_type": "code",
   "execution_count": 13,
   "metadata": {
    "scrolled": true
   },
   "outputs": [
    {
     "name": "stdout",
     "output_type": "stream",
     "text": [
      "Original data shape: (4193, 35) \n",
      "\n",
      "--- print_statistics ---\n",
      "Outcome distribution:\n",
      "0    2806\n",
      "1    1387\n",
      "Name: engage30, dtype: int64\n",
      "NaN counts:\n",
      "engage30                0\n",
      "female_cd               0\n",
      "unemplmt_cd             0\n",
      "primsev_cd              0\n",
      "prsatx_cd               0\n",
      "TRIg_0_cd               0\n",
      "TMIg_0_cd               0\n",
      "SESg_0_cd               0\n",
      "gvsg_cd                 0\n",
      "und15_cd                0\n",
      "CWSg_0_cd               0\n",
      "srprobg_cd              0\n",
      "dldiag_cd               0\n",
      "dssg_0_cd               0\n",
      "epsg_0_cd               0\n",
      "adhdg_0_cd              0\n",
      "cdsg_0_cd               0\n",
      "suicprbs_0_cd           0\n",
      "cjsig_0_cd              0\n",
      "lrig_0_cd               0\n",
      "srig_0_cd               0\n",
      "homeless_0_cd           0\n",
      "S6_cd                   0\n",
      "gcsg_0_cd               0\n",
      "ncar_cd                 0\n",
      "SFSg_0_cd               0\n",
      "B2a_0g                  0\n",
      "Raceg4_cd_gr_1          0\n",
      "Raceg4_cd_gr_2          0\n",
      "Raceg4_cd_gr_3          0\n",
      "Raceg4_cd_gr_4          0\n",
      "pop_deng                0\n",
      "%_unemployedg           0\n",
      "%_public_assistanceg    0\n",
      "%_povertyg              0\n",
      "dtype: int64\n",
      "--- impute ---\n",
      "# NaNs pre-imputation: 0\n",
      "# NaNs post-imputation: 0\n",
      "\n",
      "Final data shape: (4193, 35)\n"
     ]
    }
   ],
   "source": [
    "p.preprocess()"
   ]
  },
  {
   "cell_type": "code",
   "execution_count": 14,
   "metadata": {
    "scrolled": false
   },
   "outputs": [
    {
     "name": "stdout",
     "output_type": "stream",
     "text": [
      "--- forward_feature_selection ---\n",
      "Optimal number of features: 5\n",
      "Optimal features: ['srprobg_cd', 'unemplmt_cd', 'S6_cd', '%_public_assistanceg', 'dldiag_cd']\n",
      "roc_auc performance across 5 folds with 95% confidence: 0.5903 +/- 0.0585\n"
     ]
    },
    {
     "data": {
      "image/png": "[encoded data removed]",
      "text/plain": [
       "<Figure size 432x288 with 1 Axes>"
      ]
     },
     "metadata": {
      "needs_background": "light"
     },
     "output_type": "display_data"
    }
   ],
   "source": [
    "p.model()"
   ]
  },
  {
   "cell_type": "code",
   "execution_count": 15,
   "metadata": {
    "scrolled": true
   },
   "outputs": [
    {
     "name": "stdout",
     "output_type": "stream",
     "text": [
      "--- feature_importance ---\n",
      "                   feat  feat_imp_mean  feat_imp_95_ci\n",
      "2                 S6_cd       0.129775        0.014691\n",
      "1           unemplmt_cd       0.169958        0.048185\n",
      "4             dldiag_cd       0.213271        0.074548\n",
      "3  %_public_assistanceg       0.222916        0.024075\n",
      "0            srprobg_cd       0.264081        0.046850\n"
     ]
    }
   ],
   "source": [
    "p.postprocess()"
   ]
  },
  {
   "cell_type": "code",
   "execution_count": null,
   "metadata": {},
   "outputs": [],
   "source": []
  }
 ],
 "metadata": {
  "kernelspec": {
   "display_name": "Python 3 (ipykernel)",
   "language": "python",
   "name": "python3"
  },
  "language_info": {
   "codemirror_mode": {
    "name": "ipython",
    "version": 3
   },
   "file_extension": ".py",
   "mimetype": "text/x-python",
   "name": "python",
   "nbconvert_exporter": "python",
   "pygments_lexer": "ipython3",
   "version": "3.9.6"
  }
 },
 "nbformat": 4,
 "nbformat_minor": 4
}
