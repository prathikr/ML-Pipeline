{
 "cells": [
  {
   "cell_type": "code",
   "execution_count": 23,
   "metadata": {
    "scrolled": true
   },
   "outputs": [],
   "source": [
    "# %load_ext autoreload\n",
    "%reload_ext autoreload\n",
    "%autoreload 2"
   ]
  },
  {
   "cell_type": "code",
   "execution_count": 24,
   "metadata": {
    "scrolled": true
   },
   "outputs": [],
   "source": [
    "from utils.pipeline import Pipeline\n",
    "\n",
    "p = Pipeline(\"example_config.json\")"
   ]
  },
  {
   "cell_type": "code",
   "execution_count": 25,
   "metadata": {
    "scrolled": true
   },
   "outputs": [
    {
     "name": "stdout",
     "output_type": "stream",
     "text": [
      "Original data shape: (891, 8) \n",
      "\n",
      "--- print_statistics ---\n",
      "Outcome distribution:\n",
      "0    549\n",
      "1    342\n",
      "Name: Survived, dtype: int64\n",
      "NaN counts:\n",
      "Pclass        0\n",
      "Sex           0\n",
      "Age         177\n",
      "SibSp         0\n",
      "Parch         0\n",
      "Fare          0\n",
      "Embarked      2\n",
      "Survived      0\n",
      "dtype: int64\n",
      "--- impute ---\n",
      "# NaNs pre-imputation: 179\n",
      "# NaNs post-imputation: 0\n",
      "--- one_hot_encode ---\n",
      "Features to encode: ['Pclass', 'Sex', 'Embarked']\n",
      "Data shape after one_hot_encode: (891, 13)\n",
      "\n",
      "Final data shape: (891, 13)\n"
     ]
    }
   ],
   "source": [
    "p.preprocess()"
   ]
  },
  {
   "cell_type": "code",
   "execution_count": 26,
   "metadata": {
    "scrolled": true
   },
   "outputs": [
    {
     "name": "stdout",
     "output_type": "stream",
     "text": [
      "--- forward_feature_selection ---\n",
      "Optimal number of features: 7\n",
      "Optimal features: ['Sex_male', 'Pclass_3', 'Age', 'Pclass_2', 'SibSp', 'Embarked_S', 'Sex_female']\n",
      "roc_auc performance across 5 folds with 95% confidence: 0.7821 +/- 0.0154\n"
     ]
    },
    {
     "data": {
      "image/png": "[encoded data removed]",
      "text/plain": [
       "<Figure size 432x288 with 1 Axes>"
      ]
     },
     "metadata": {
      "needs_background": "light"
     },
     "output_type": "display_data"
    }
   ],
   "source": [
    "p.model()"
   ]
  },
  {
   "cell_type": "code",
   "execution_count": 27,
   "metadata": {
    "scrolled": true
   },
   "outputs": [
    {
     "name": "stdout",
     "output_type": "stream",
     "text": [
      "--- feature_importance_permutation_importance ---\n",
      "         feat  feat_imp_mean  feat_imp_95_ci\n",
      "1    Pclass_3       0.099932        0.031986\n",
      "0    Sex_male       0.052576        0.011213\n",
      "6  Sex_female       0.052576        0.011213\n",
      "2         Age       0.021778        0.005645\n",
      "3    Pclass_2       0.008938        0.016678\n",
      "4       SibSp       0.007955        0.012825\n",
      "5  Embarked_S       0.001009        0.003759\n"
     ]
    }
   ],
   "source": [
    "p.postprocess()"
   ]
  },
  {
   "cell_type": "code",
   "execution_count": null,
   "metadata": {},
   "outputs": [],
   "source": []
  }
 ],
 "metadata": {
  "kernelspec": {
   "display_name": "Python 3",
   "language": "python",
   "name": "python3"
  },
  "language_info": {
   "codemirror_mode": {
    "name": "ipython",
    "version": 3
   },
   "file_extension": ".py",
   "mimetype": "text/x-python",
   "name": "python",
   "nbconvert_exporter": "python",
   "pygments_lexer": "ipython3",
   "version": "3.9.5"
  }
 },
 "nbformat": 4,
 "nbformat_minor": 4
}
